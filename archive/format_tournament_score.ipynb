{
 "cells": [
  {
   "cell_type": "code",
   "execution_count": 1,
   "metadata": {
    "ExecuteTime": {
     "end_time": "2020-12-02T13:52:00.606728Z",
     "start_time": "2020-12-02T13:51:57.980954Z"
    }
   },
   "outputs": [],
   "source": [
    "import pandas as pd"
   ]
  },
  {
   "cell_type": "code",
   "execution_count": 11,
   "metadata": {
    "ExecuteTime": {
     "end_time": "2020-12-02T13:54:52.651675Z",
     "start_time": "2020-12-02T13:54:51.980306Z"
    }
   },
   "outputs": [],
   "source": [
    "df = pd.read_csv('tournaments_scores_data_09112020_FINAL.csv')"
   ]
  },
  {
   "cell_type": "code",
   "execution_count": 21,
   "metadata": {
    "ExecuteTime": {
     "end_time": "2020-12-02T14:00:28.229252Z",
     "start_time": "2020-12-02T14:00:28.199662Z"
    }
   },
   "outputs": [],
   "source": [
    "df_players_url = pd.concat([df['url_winner'],df['url_loser']])\n",
    "df_players_name = pd.concat([df['winner'],df['loser']])\n",
    "df_new = pd.DataFrame({'player_name':df_players_name,'player_url':df_players_url})"
   ]
  },
  {
   "cell_type": "code",
   "execution_count": 29,
   "metadata": {
    "ExecuteTime": {
     "end_time": "2020-12-02T14:01:42.599286Z",
     "start_time": "2020-12-02T14:01:42.423032Z"
    }
   },
   "outputs": [],
   "source": [
    "df_new.drop_duplicates().to_csv('players_url.csv')"
   ]
  },
  {
   "cell_type": "code",
   "execution_count": 8,
   "metadata": {
    "ExecuteTime": {
     "end_time": "2020-12-02T13:53:31.454919Z",
     "start_time": "2020-12-02T13:53:31.440240Z"
    }
   },
   "outputs": [
    {
     "data": {
      "text/plain": [
       "(210071, 4)"
      ]
     },
     "execution_count": 8,
     "metadata": {},
     "output_type": "execute_result"
    }
   ],
   "source": [
    "df.shape"
   ]
  },
  {
   "cell_type": "code",
   "execution_count": 10,
   "metadata": {
    "ExecuteTime": {
     "end_time": "2020-12-02T13:54:11.548156Z",
     "start_time": "2020-12-02T13:54:11.437803Z"
    }
   },
   "outputs": [],
   "source": [
    "df.drop_duplicates().to_csv('tournament_url_deduplicated.csv')"
   ]
  },
  {
   "cell_type": "code",
   "execution_count": null,
   "metadata": {},
   "outputs": [],
   "source": []
  }
 ],
 "metadata": {
  "kernelspec": {
   "display_name": "Python 3",
   "language": "python",
   "name": "python3"
  },
  "language_info": {
   "codemirror_mode": {
    "name": "ipython",
    "version": 3
   },
   "file_extension": ".py",
   "mimetype": "text/x-python",
   "name": "python",
   "nbconvert_exporter": "python",
   "pygments_lexer": "ipython3",
   "version": "3.8.5"
  }
 },
 "nbformat": 4,
 "nbformat_minor": 4
}
